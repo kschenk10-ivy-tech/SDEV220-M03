{
 "cells": [
  {
   "cell_type": "markdown",
   "id": "0606945f-3803-4035-aac7-652ea41c3a41",
   "metadata": {},
   "source": [
    "# SDEV-220 | Module Three\n",
    "*Programming Assignment - Lists and Functions*"
   ]
  },
  {
   "cell_type": "markdown",
   "id": "fcfced93-c8d1-48d3-b1df-643a17917834",
   "metadata": {},
   "source": [
    "## Chapter 7"
   ]
  },
  {
   "cell_type": "markdown",
   "id": "ed2c89d6-b108-49fb-8e38-862867e14c30",
   "metadata": {},
   "source": [
    "**Things to Do**\n",
    "\n",
    "#### 7.1 \n",
    "Create a list called years_list, starting with the year of your birth, and each year thereafter until the year of your fifth birthday."
   ]
  },
  {
   "cell_type": "code",
   "execution_count": 42,
   "id": "85926688",
   "metadata": {},
   "outputs": [],
   "source": [
    "years_list = [1988, 1989, 1990, 1991, 1992, 1993]"
   ]
  },
  {
   "cell_type": "markdown",
   "id": "ec81e2b2",
   "metadata": {},
   "source": [
    "#### 7.2\n",
    "In which year in years_list was your third birthday?"
   ]
  },
  {
   "cell_type": "code",
   "execution_count": 43,
   "id": "88c4f127",
   "metadata": {},
   "outputs": [
    {
     "name": "stdout",
     "output_type": "stream",
     "text": [
      "1991\n"
     ]
    }
   ],
   "source": [
    "third_birthday_year = years_list[3]\n",
    "print(third_birthday_year)"
   ]
  },
  {
   "cell_type": "markdown",
   "id": "80c2d9d9",
   "metadata": {},
   "source": [
    "#### 7.3 \n",
    "In which year in years_list were you the oldest?"
   ]
  },
  {
   "cell_type": "code",
   "execution_count": 44,
   "id": "1cd23763",
   "metadata": {},
   "outputs": [
    {
     "name": "stdout",
     "output_type": "stream",
     "text": [
      "1993\n"
     ]
    }
   ],
   "source": [
    "oldest_year = years_list[-1]\n",
    "print(oldest_year)"
   ]
  },
  {
   "cell_type": "markdown",
   "id": "66e2bf7c",
   "metadata": {},
   "source": [
    "#### 7.4\n",
    "Make a list called things with these three strings as elements: \"mozzarella\", \"cinderella\", \"salmonella\"."
   ]
  },
  {
   "cell_type": "code",
   "execution_count": 45,
   "id": "d9790380",
   "metadata": {},
   "outputs": [],
   "source": [
    "things = [\"mozzarella\", \"cinderella\", \"salmonella\"]"
   ]
  },
  {
   "cell_type": "markdown",
   "id": "4ee79711",
   "metadata": {},
   "source": [
    "#### 7.5 \n",
    "Capitalize the element in things that refers to a person and then print the list. Did it change the element in the list?"
   ]
  },
  {
   "cell_type": "code",
   "execution_count": 46,
   "id": "f2b96d04",
   "metadata": {},
   "outputs": [
    {
     "name": "stdout",
     "output_type": "stream",
     "text": [
      "['mozzarella', 'Cinderella', 'salmonella']\n"
     ]
    }
   ],
   "source": [
    "things[1] = things[1].capitalize()\n",
    "print(things)"
   ]
  },
  {
   "cell_type": "markdown",
   "id": "5075fc49",
   "metadata": {},
   "source": [
    "#### 7.6 \n",
    "Make the cheesy element of things all uppercase and then print the list."
   ]
  },
  {
   "cell_type": "code",
   "execution_count": 38,
   "id": "c2907df2",
   "metadata": {},
   "outputs": [
    {
     "name": "stdout",
     "output_type": "stream",
     "text": [
      "['MOZZARELLA', 'Cinderella', 'salmonella']\n"
     ]
    }
   ],
   "source": [
    "things[0] = things[0].upper()\n",
    "print(things)"
   ]
  },
  {
   "cell_type": "markdown",
   "id": "1cc8fd3a",
   "metadata": {},
   "source": [
    "#### 7.7 \n",
    "Delete the disease element from things, collect your Nobel Prize, and print the list."
   ]
  },
  {
   "cell_type": "code",
   "execution_count": 39,
   "id": "ce7d324a",
   "metadata": {},
   "outputs": [
    {
     "name": "stdout",
     "output_type": "stream",
     "text": [
      "['MOZZARELLA', 'Cinderella']\n"
     ]
    }
   ],
   "source": [
    "del things[2]\n",
    "print(things)"
   ]
  },
  {
   "cell_type": "markdown",
   "id": "e5ef84af-6adf-41f2-bc93-aa00c70a1f46",
   "metadata": {},
   "source": [
    "## Chapter 9"
   ]
  },
  {
   "cell_type": "markdown",
   "id": "7ee8c561-e97a-4676-9cbc-9c0e0516b4f2",
   "metadata": {},
   "source": [
    "*Things to Do*\n",
    "\n",
    "#### 9.1 \n",
    "Define a function called good() that returns the following list: ['Harry', 'Ron', 'Hermione']."
   ]
  },
  {
   "cell_type": "code",
   "execution_count": 40,
   "id": "4e5cd631",
   "metadata": {},
   "outputs": [
    {
     "name": "stdout",
     "output_type": "stream",
     "text": [
      "['Harry', 'Ron', 'Hermione']\n"
     ]
    }
   ],
   "source": [
    "def good():\n",
    "    return ['Harry', 'Ron', 'Hermione']\n",
    "\n",
    "print(good())"
   ]
  },
  {
   "cell_type": "markdown",
   "id": "5598f44f",
   "metadata": {},
   "source": [
    "#### 9.2 \n",
    "Define a generator function called get_odds() that returns the odd numbers from range(10). Use a for loop to find and print the third value returned.\n",
    " "
   ]
  },
  {
   "cell_type": "code",
   "execution_count": 41,
   "id": "df85f3d8",
   "metadata": {},
   "outputs": [
    {
     "name": "stdout",
     "output_type": "stream",
     "text": [
      "5\n"
     ]
    }
   ],
   "source": [
    "def get_odds():\n",
    "    for number in range(10):\n",
    "        if number % 2 != 0:\n",
    "            yield number\n",
    "\n",
    "count = 0\n",
    "for odd in get_odds():\n",
    "    count += 1\n",
    "    if count == 3:\n",
    "        print(odd)\n",
    "        break"
   ]
  }
 ],
 "metadata": {
  "kernelspec": {
   "display_name": "Python 3",
   "language": "python",
   "name": "python3"
  },
  "language_info": {
   "codemirror_mode": {
    "name": "ipython",
    "version": 3
   },
   "file_extension": ".py",
   "mimetype": "text/x-python",
   "name": "python",
   "nbconvert_exporter": "python",
   "pygments_lexer": "ipython3",
   "version": "3.13.1"
  }
 },
 "nbformat": 4,
 "nbformat_minor": 5
}
