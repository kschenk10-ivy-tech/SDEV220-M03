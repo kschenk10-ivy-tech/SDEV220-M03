{
 "cells": [
  {
   "cell_type": "markdown",
   "id": "0606945f-3803-4035-aac7-652ea41c3a41",
   "metadata": {},
   "source": [
    "# SDEV-220 | Module Three\n",
    "*Lab: Case Study: Lists, Functions, and Classes*"
   ]
  },
  {
   "cell_type": "markdown",
   "id": "ec81e2b2",
   "metadata": {},
   "source": [
    "Write a Python app that has the following classes:\n",
    "- A super class called `Vehicle`, which contains an attribute for vehicle type, such as car, truck, plane, boat, or a broomstick.\n",
    "- A class called `Automobile` which will inherit the attributes from Vehicle and also contain the following attributes:\n",
    "    - year\n",
    "    - make\n",
    "    - model\n",
    "    - doors (2 or 4)\n",
    "    - roof (solid or sun roof).\n",
    "\n",
    "Write an app that will accept user input for a car. <br>\n",
    "- The app will store \"car\" into the vehicle type in your Vehicle super class. <br>\n",
    "- The app will then ask the user for the year, make, model, doors, and type of roof and store thdata in the attributes above.<br>\n",
    "- The app will then output the data in an easy-to-read and understandable format, such as this:<br>\n",
    "    - Vehicle type: car\n",
    "    - Year: 2022\n",
    "    - Make: Toyota\n",
    "    - Model: Corolla\n",
    "    - Number of doors: 4\n",
    "    - Type of roof: sun roof"
   ]
  },
  {
   "cell_type": "code",
   "execution_count": 1,
   "id": "88c4f127",
   "metadata": {},
   "outputs": [
    {
     "name": "stdout",
     "output_type": "stream",
     "text": [
      "Please enter the following details for your car:\n",
      "\n",
      "Here is the information you provided:\n",
      "Vehicle type: car\n",
      "Year: 1980\n",
      "Make: Chevrolet\n",
      "Model: Camaro\n",
      "Number of doors: 2\n",
      "Type of roof: sun roof\n"
     ]
    }
   ],
   "source": [
    "# Define the Vehicle superclass\n",
    "class Vehicle:\n",
    "    def __init__(self, vehicle_type):\n",
    "        self.vehicle_type = vehicle_type\n",
    "\n",
    "# Define the Automobile subclass that inherits from Vehicle\n",
    "class Automobile(Vehicle):\n",
    "    def __init__(self, vehicle_type, year, make, model, doors, roof):\n",
    "        super().__init__(vehicle_type)\n",
    "        self.year = year\n",
    "        self.make = make\n",
    "        self.model = model\n",
    "        self.doors = doors\n",
    "        self.roof = roof\n",
    "\n",
    "    def display_info(self):\n",
    "        print(\"Vehicle type:\", self.vehicle_type)\n",
    "        print(\"Year:\", self.year)\n",
    "        print(\"Make:\", self.make)\n",
    "        print(\"Model:\", self.model)\n",
    "        print(\"Number of doors:\", self.doors)\n",
    "        print(\"Type of roof:\", self.roof)\n",
    "\n",
    "# Collect user input\n",
    "print(\"Please enter the following details for your car:\")\n",
    "vehicle_type = \"car\"  # Set vehicle type to \"car\"\n",
    "year = input(\"Year: \")\n",
    "make = input(\"Make: \")\n",
    "model = input(\"Model: \")\n",
    "doors = input(\"Number of doors (2 or 4): \")\n",
    "roof = input(\"Type of roof (solid or sun roof): \")\n",
    "\n",
    "# Validate doors input\n",
    "while doors not in [\"2\", \"4\"]:\n",
    "    print(\"Invalid input. Please enter 2 or 4 for the number of doors.\")\n",
    "    doors = input(\"Number of doors (2 or 4): \")\n",
    "\n",
    "# Validate roof input\n",
    "while roof.lower() not in [\"solid\", \"sun roof\"]:\n",
    "    print(\"Invalid input. Please enter 'solid' or 'sun roof' for the type of roof.\")\n",
    "    roof = input(\"Type of roof (solid or sun roof): \")\n",
    "\n",
    "# Create an Automobile object\n",
    "car = Automobile(vehicle_type, year, make, model, doors, roof)\n",
    "\n",
    "# Display the car's information\n",
    "print(\"\\nHere is the information you provided:\")\n",
    "car.display_info()"
   ]
  }
 ],
 "metadata": {
  "kernelspec": {
   "display_name": "base",
   "language": "python",
   "name": "python3"
  },
  "language_info": {
   "codemirror_mode": {
    "name": "ipython",
    "version": 3
   },
   "file_extension": ".py",
   "mimetype": "text/x-python",
   "name": "python",
   "nbconvert_exporter": "python",
   "pygments_lexer": "ipython3",
   "version": "3.12.7"
  }
 },
 "nbformat": 4,
 "nbformat_minor": 5
}
